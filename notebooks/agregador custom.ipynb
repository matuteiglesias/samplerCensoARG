{
 "cells": [
  {
   "cell_type": "code",
   "execution_count": 32,
   "metadata": {},
   "outputs": [
    {
     "name": "stderr",
     "output_type": "stream",
     "text": [
      "/home/matias/anaconda3/envs/base2/lib/python3.11/site-packages/distributed/node.py:182: UserWarning: Port 8787 is already in use.\n",
      "Perhaps you already have a cluster running?\n",
      "Hosting the HTTP server on port 46423 instead\n",
      "  warnings.warn(\n"
     ]
    },
    {
     "data": {
      "text/plain": [
       "<dask.config.set at 0x7f4009e4e310>"
      ]
     },
     "execution_count": 32,
     "metadata": {},
     "output_type": "execute_result"
    }
   ],
   "source": [
    "import pandas as pd\n",
    "import dask.dataframe as dd\n",
    "from dask.diagnostics import ProgressBar\n",
    "import time\n",
    "import numpy as np\n",
    "\n",
    "def log_message(message, start_time=None):\n",
    "    current_time = time.time()\n",
    "    readable_time = time.strftime('%Y-%m-%d %H:%M:%S', time.localtime(current_time))\n",
    "    elapsed_time = f'Elapsed time: {current_time - start_time:.2f} seconds' if start_time else ''\n",
    "    print(f\"[{readable_time}] {message} {elapsed_time}\")\n",
    "\n",
    "from dask import config\n",
    "from dask.distributed import Client\n",
    "\n",
    "# Initialize a Dask client\n",
    "client = Client()\n",
    "\n",
    "# Set configuration for optimization\n",
    "config.set({\n",
    "    'optimization.fuse.ave-width': 5\n",
    "})\n"
   ]
  },
  {
   "cell_type": "code",
   "execution_count": 33,
   "metadata": {},
   "outputs": [
    {
     "name": "stdout",
     "output_type": "stream",
     "text": [
      "Requirement already satisfied: dask[distributed] in /home/matias/anaconda3/envs/base2/lib/python3.11/site-packages (2023.8.1)\n",
      "Requirement already satisfied: click>=8.0 in /home/matias/anaconda3/envs/base2/lib/python3.11/site-packages (from dask[distributed]) (8.0.4)\n",
      "Requirement already satisfied: cloudpickle>=1.5.0 in /home/matias/anaconda3/envs/base2/lib/python3.11/site-packages (from dask[distributed]) (2.2.1)\n",
      "Requirement already satisfied: fsspec>=2021.09.0 in /home/matias/anaconda3/envs/base2/lib/python3.11/site-packages (from dask[distributed]) (2023.6.0)\n",
      "Requirement already satisfied: packaging>=20.0 in /home/matias/anaconda3/envs/base2/lib/python3.11/site-packages (from dask[distributed]) (23.1)\n",
      "Requirement already satisfied: partd>=1.2.0 in /home/matias/anaconda3/envs/base2/lib/python3.11/site-packages (from dask[distributed]) (1.4.0)\n",
      "Requirement already satisfied: pyyaml>=5.3.1 in /home/matias/anaconda3/envs/base2/lib/python3.11/site-packages (from dask[distributed]) (6.0.1)\n",
      "Requirement already satisfied: toolz>=0.10.0 in /home/matias/anaconda3/envs/base2/lib/python3.11/site-packages (from dask[distributed]) (0.12.0)\n",
      "Requirement already satisfied: importlib-metadata>=4.13.0 in /home/matias/anaconda3/envs/base2/lib/python3.11/site-packages (from dask[distributed]) (6.6.0)\n",
      "Requirement already satisfied: distributed==2023.8.1 in /home/matias/anaconda3/envs/base2/lib/python3.11/site-packages (from dask[distributed]) (2023.8.1)\n",
      "Requirement already satisfied: jinja2>=2.10.3 in /home/matias/anaconda3/envs/base2/lib/python3.11/site-packages (from distributed==2023.8.1->dask[distributed]) (3.1.2)\n",
      "Requirement already satisfied: locket>=1.0.0 in /home/matias/anaconda3/envs/base2/lib/python3.11/site-packages (from distributed==2023.8.1->dask[distributed]) (1.0.0)\n",
      "Requirement already satisfied: msgpack>=1.0.0 in /home/matias/anaconda3/envs/base2/lib/python3.11/site-packages (from distributed==2023.8.1->dask[distributed]) (1.0.5)\n",
      "Requirement already satisfied: psutil>=5.7.2 in /home/matias/anaconda3/envs/base2/lib/python3.11/site-packages (from distributed==2023.8.1->dask[distributed]) (5.9.0)\n",
      "Requirement already satisfied: sortedcontainers>=2.0.5 in /home/matias/anaconda3/envs/base2/lib/python3.11/site-packages (from distributed==2023.8.1->dask[distributed]) (2.4.0)\n",
      "Requirement already satisfied: tblib>=1.6.0 in /home/matias/anaconda3/envs/base2/lib/python3.11/site-packages (from distributed==2023.8.1->dask[distributed]) (2.0.0)\n",
      "Requirement already satisfied: tornado>=6.0.4 in /home/matias/anaconda3/envs/base2/lib/python3.11/site-packages (from distributed==2023.8.1->dask[distributed]) (6.2)\n",
      "Requirement already satisfied: urllib3>=1.24.3 in /home/matias/anaconda3/envs/base2/lib/python3.11/site-packages (from distributed==2023.8.1->dask[distributed]) (1.26.16)\n",
      "Requirement already satisfied: zict>=2.2.0 in /home/matias/anaconda3/envs/base2/lib/python3.11/site-packages (from distributed==2023.8.1->dask[distributed]) (3.0.0)\n",
      "Requirement already satisfied: zipp>=0.5 in /home/matias/anaconda3/envs/base2/lib/python3.11/site-packages (from importlib-metadata>=4.13.0->dask[distributed]) (3.15.0)\n",
      "Requirement already satisfied: MarkupSafe>=2.0 in /home/matias/anaconda3/envs/base2/lib/python3.11/site-packages (from jinja2>=2.10.3->distributed==2023.8.1->dask[distributed]) (2.1.3)\n",
      "Note: you may need to restart the kernel to use updated packages.\n"
     ]
    }
   ],
   "source": [
    "pip install \"dask[distributed]\" --upgrade"
   ]
  },
  {
   "cell_type": "code",
   "execution_count": 34,
   "metadata": {},
   "outputs": [],
   "source": [
    "censo_DB_path = '/media/matias/Elements/suite/ext_CPV2010_basico_radio_pub'\n"
   ]
  },
  {
   "cell_type": "code",
   "execution_count": null,
   "metadata": {},
   "outputs": [],
   "source": []
  },
  {
   "cell_type": "code",
   "execution_count": null,
   "metadata": {},
   "outputs": [],
   "source": []
  },
  {
   "cell_type": "code",
   "execution_count": 35,
   "metadata": {},
   "outputs": [
    {
     "name": "stdout",
     "output_type": "stream",
     "text": [
      "[2023-08-25 17:20:05] Script started. \n",
      "Type of PERSONA after binning: <class 'dask.dataframe.core.DataFrame'>\n",
      "[2023-08-25 17:20:27] Age binning completed. Elapsed time: 21.51 seconds\n",
      "Dask Series Structure:\n",
      "npartitions=1\n",
      "    int64\n",
      "      ...\n",
      "Name: count, dtype: int64\n",
      "Dask Name: value-counts-agg, 8 graph layers\n",
      "[2023-08-25 17:20:27] Merging completed. Elapsed time: 21.57 seconds\n",
      "[2023-08-25 17:21:49] Data processed and saved for column: PROP Elapsed time: 81.65 seconds\n",
      "[2023-08-25 17:23:16] Data processed and saved for column: CONDACT Elapsed time: 168.86 seconds\n",
      "[2023-08-25 17:24:54] Data processed and saved for column: P02 Elapsed time: 267.23 seconds\n",
      "[2023-08-25 17:26:38] Data processed and saved for column: age_bin Elapsed time: 371.46 seconds\n",
      "[2023-08-25 17:28:14] Data processed and saved for column: P09 Elapsed time: 467.03 seconds\n",
      "All columns processed and saved.\n",
      "[2023-08-25 17:28:14] Script completed. \n"
     ]
    }
   ],
   "source": [
    "\n",
    "log_message(\"Script started.\")\n",
    "\n",
    "# Load data\n",
    "proy_pop = pd.read_csv('./../data/info/proy_pop200125.csv', encoding='utf-8')[['DPTO', '2010', '2023']]\n",
    "\n",
    "radio_circ_ign = pd.read_csv('./../../CNE-INDEC-georef/info/radio_circ_IGN.csv')\n",
    "radio_ref = pd.read_csv('./../data/info/radio_ref.csv').astype({'DPTO':int, 'PROV':int})\n",
    "radio_ref['COD_2010'] = radio_ref['radio'].astype(str).str.zfill(9)\n",
    "\n",
    "radio_circ_ign = radio_circ_ign.merge(radio_ref[['COD_2010', 'PROV_REF_ID', 'DPTO', 'RADIO_REF_ID']], how = 'left')[['RADIO_REF_ID', 'PROV_REF_ID', 'DPTO', 'circuito']].dropna()\n",
    "radio_circ_ign['RADIO_REF_ID'] = radio_circ_ign['RADIO_REF_ID'].astype(int)\n",
    "\n",
    "\n",
    "# Load datasets\n",
    "VIVIENDA = dd.read_csv(censo_DB_path + '/VIVIENDA.csv', sep=';', usecols=['VIVIENDA_REF_ID', 'RADIO_REF_ID'])\n",
    "HOGAR = dd.read_csv(censo_DB_path + '/HOGAR.csv', sep=';', usecols=['HOGAR_REF_ID', 'VIVIENDA_REF_ID', 'PROP'])\n",
    "PERSONA = dd.read_csv(censo_DB_path + '/PERSONA.csv', sep=';', usecols=['PERSONA_REF_ID', 'HOGAR_REF_ID', 'CONDACT', 'P02', 'P03', 'P09'])\n",
    "\n",
    "# Filter for age >= 16\n",
    "PERSONA = PERSONA[PERSONA['P03'] >= 16]\n",
    "\n",
    "start_time = time.time()\n",
    "\n",
    "def compute_age_bins(partition, bins):\n",
    "    labels = ['young', 'middle', 'old']\n",
    "    age_bins = pd.cut(partition['P03'], bins=bins, labels=labels, right=False)\n",
    "    return partition.assign(age_bin=age_bins)\n",
    "\n",
    "# Calculate global age bins\n",
    "# global_bins = PERSONA['P03'].quantile([0, .3333, .6666, 1]).compute().tolist()\n",
    "global_bins = [16.0, 31.0, 51.0, 110.0]\n",
    "\n",
    "# Apply the age bins without computing\n",
    "PERSONA = PERSONA.map_partitions(compute_age_bins, bins=global_bins)\n",
    "\n",
    "# Display the type of PERSONA and the value counts for the age bins\n",
    "type_after_binning = type(PERSONA)\n",
    "age_bin_counts = PERSONA['age_bin'].value_counts().compute()\n",
    "\n",
    "# Display type of PERSONA after binning\n",
    "print(\"Type of PERSONA after binning:\", type(PERSONA))\n",
    "log_message(\"Age binning completed.\", start_time)\n",
    "\n",
    "# Display the value counts for the age bins\n",
    "print(PERSONA['age_bin'].value_counts())\n",
    "\n",
    "\n",
    "# Merging\n",
    "with ProgressBar():\n",
    "    HOGAR = HOGAR.merge(VIVIENDA[['VIVIENDA_REF_ID', 'RADIO_REF_ID']], on='VIVIENDA_REF_ID')\n",
    "    PERSONA = PERSONA.merge(HOGAR[['RADIO_REF_ID', 'VIVIENDA_REF_ID', 'HOGAR_REF_ID', 'PROP']], on='HOGAR_REF_ID')\n",
    "    # PERSONA = PERSONA.merge(radio_ref[['RADIO_REF_ID', 'DPTO', 'PROV_REF_ID', 'DPTO', 'AGLOMERADO']], on='RADIO_REF_ID')\n",
    "    PERSONA = PERSONA.merge(radio_circ_ign[['RADIO_REF_ID', 'PROV_REF_ID', 'DPTO', 'circuito']], on='RADIO_REF_ID')\n",
    "log_message(\"Merging completed.\", start_time)\n",
    "\n",
    "start_time = time.time()\n",
    "\n",
    "\n",
    "def count_for_single_column(df, col):\n",
    "    \"\"\"Count unique values for a single column.\"\"\"\n",
    "    return df.groupby(['PROV_REF_ID', 'DPTO', 'circuito', col]).size().reset_index(name=f'{col}_count')\n",
    "\n",
    "columns_to_count = ['PROP', 'CONDACT', 'P02', 'age_bin', 'P09']\n",
    "\n",
    "# Create a list to store the results for each column\n",
    "result_frames = []\n",
    "\n",
    "\n",
    "for column in columns_to_count:\n",
    "    # Group by the desired columns and compute the counts for the current column\n",
    "    partial_result = PERSONA.map_partitions(count_for_single_column, col=column)\n",
    "    \n",
    "    # Group by other geographical columns and compute the sum\n",
    "    grouped_counts = partial_result.groupby(['PROV_REF_ID', 'DPTO', 'circuito', column]).sum().reset_index()\n",
    "    \n",
    "    # Join the population projections (if needed)\n",
    "    # final_grouped = grouped_counts.merge(proy_pop, on='DPTO', how='left')\n",
    "    \n",
    "    # Compute the results and save to a unique CSV file for the current column\n",
    "    out = grouped_counts.compute()\n",
    "    out.to_csv(f'./../data/agg_circuitos_{column}.csv')\n",
    "\n",
    "    log_message(f\"Data processed and saved for column: {column}\", start_time)\n",
    "\n",
    "print(\"All columns processed and saved.\")\n",
    "log_message(\"Script completed.\")"
   ]
  }
 ],
 "metadata": {
  "kernelspec": {
   "display_name": "base2",
   "language": "python",
   "name": "python3"
  },
  "language_info": {
   "codemirror_mode": {
    "name": "ipython",
    "version": 3
   },
   "file_extension": ".py",
   "mimetype": "text/x-python",
   "name": "python",
   "nbconvert_exporter": "python",
   "pygments_lexer": "ipython3",
   "version": "3.11.3"
  },
  "orig_nbformat": 4
 },
 "nbformat": 4,
 "nbformat_minor": 2
}
